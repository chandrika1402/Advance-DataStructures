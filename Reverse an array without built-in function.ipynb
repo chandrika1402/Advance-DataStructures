{
 "cells": [
  {
   "cell_type": "code",
   "execution_count": 1,
   "id": "2c15e6b8",
   "metadata": {},
   "outputs": [
    {
     "name": "stdout",
     "output_type": "stream",
     "text": [
      "[5 4 8 7 2 5 3]\n"
     ]
    }
   ],
   "source": [
    "import numpy as np\n",
    "\n",
    "x = np.array([3,5,2,7,8,4,5])\n",
    "type(x)\n",
    "print(x[::-1])"
   ]
  },
  {
   "cell_type": "code",
   "execution_count": 3,
   "id": "c472275e",
   "metadata": {},
   "outputs": [
    {
     "name": "stdout",
     "output_type": "stream",
     "text": [
      "[5, 4, 8, 7, 2, 5, 3]\n"
     ]
    }
   ],
   "source": [
    "arr = [3,5,2,7,8,4,5]\n",
    "n = len(arr)\n",
    "\n",
    "for i in range(n // 2):\n",
    "    arr[i], arr[n - i - 1] = arr[n - i - 1], arr[i] \n",
    "\n",
    "print(arr)\n"
   ]
  },
  {
   "cell_type": "code",
   "execution_count": 4,
   "id": "4dff2e69",
   "metadata": {},
   "outputs": [
    {
     "name": "stdout",
     "output_type": "stream",
     "text": [
      "[5 4 8 7 2 5 3]\n"
     ]
    }
   ],
   "source": [
    "import numpy as np\n",
    "\n",
    "arr = np.array([3,5,2,7,8,4,5])\n",
    "n = len(arr)\n",
    "\n",
    "for i in range(n // 2):\n",
    "    arr[i], arr[n - i - 1] = arr[n - i - 1], arr[i]  \n",
    "\n",
    "print(arr)\n"
   ]
  },
  {
   "cell_type": "code",
   "execution_count": 9,
   "id": "23cedc13",
   "metadata": {},
   "outputs": [
    {
     "name": "stdout",
     "output_type": "stream",
     "text": [
      "5\n",
      "4\n",
      "8\n",
      "7\n",
      "2\n",
      "5\n",
      "3\n"
     ]
    }
   ],
   "source": [
    "import numpy as np\n",
    "\n",
    "arr = np.array([3,5,2,7,8,4,5])\n",
    "type(arr)\n",
    "for i in range (n-1,-1,-1):\n",
    "    print(x[i])\n",
    "\n",
    "\n"
   ]
  },
  {
   "cell_type": "code",
   "execution_count": 10,
   "id": "2064b3e4",
   "metadata": {},
   "outputs": [
    {
     "name": "stdout",
     "output_type": "stream",
     "text": [
      "[5, 4, 8, 7, 2, 5, 3]\n"
     ]
    }
   ],
   "source": [
    "#Using loop\n",
    "import numpy as np\n",
    "\n",
    "arr = np.array([3,5,2,7,8,4,5])\n",
    "type(arr)\n",
    "new_arr=[]\n",
    "for i in range (n-1,-1,-1):\n",
    "    new_arr.append(x[i])\n",
    "print(new_arr)\n"
   ]
  },
  {
   "cell_type": "code",
   "execution_count": null,
   "id": "e0a1fbab",
   "metadata": {},
   "outputs": [],
   "source": []
  }
 ],
 "metadata": {
  "kernelspec": {
   "display_name": "Python 3 (ipykernel)",
   "language": "python",
   "name": "python3"
  },
  "language_info": {
   "codemirror_mode": {
    "name": "ipython",
    "version": 3
   },
   "file_extension": ".py",
   "mimetype": "text/x-python",
   "name": "python",
   "nbconvert_exporter": "python",
   "pygments_lexer": "ipython3",
   "version": "3.11.5"
  }
 },
 "nbformat": 4,
 "nbformat_minor": 5
}
