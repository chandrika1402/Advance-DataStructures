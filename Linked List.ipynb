{
 "cells": [
  {
   "cell_type": "code",
   "execution_count": 10,
   "id": "a90751a3",
   "metadata": {},
   "outputs": [
    {
     "name": "stdout",
     "output_type": "stream",
     "text": [
      "Enter data: 10\n",
      "Continue? (y/n): y\n",
      "Enter data: 20\n",
      "Continue? (y/n): y\n",
      "Enter data: 30\n",
      "Continue? (y/n): y40\n",
      "The List is:\n",
      "10 --> 20 --> 30 --> None\n"
     ]
    }
   ],
   "source": [
    "class Node:\n",
    "    def __init__(self, newdata=None):\n",
    "        self.data = newdata\n",
    "        self.next = None\n",
    "\n",
    "class Singlylinkedlist:\n",
    "    def __init__(self):\n",
    "        self.Head = None\n",
    "\n",
    "    def createList(self):\n",
    "        self.Head = Node()\n",
    "        cur = self.Head\n",
    "        while True:\n",
    "            cur.data = int(input(\"Enter data: \"))\n",
    "            ch = input(\"Continue? (y/n): \")\n",
    "            if ch.lower() == \"y\":\n",
    "                cur.next = Node()\n",
    "                cur = cur.next\n",
    "            else:\n",
    "                cur.next = None\n",
    "                break\n",
    "\n",
    "    def display(self):\n",
    "        curNode = self.Head\n",
    "        while curNode is not None:\n",
    "            print(curNode.data, end=\" --> \")\n",
    "            curNode = curNode.next\n",
    "        print(\"None\")\n",
    "\n",
    "# Create and display the linked list\n",
    "head = Singlylinkedlist()\n",
    "head.createList()\n",
    "print(\"The List is:\")\n",
    "head.display()\n"
   ]
  },
  {
   "cell_type": "code",
   "execution_count": null,
   "id": "c17927d6",
   "metadata": {},
   "outputs": [],
   "source": []
  }
 ],
 "metadata": {
  "kernelspec": {
   "display_name": "Python 3 (ipykernel)",
   "language": "python",
   "name": "python3"
  },
  "language_info": {
   "codemirror_mode": {
    "name": "ipython",
    "version": 3
   },
   "file_extension": ".py",
   "mimetype": "text/x-python",
   "name": "python",
   "nbconvert_exporter": "python",
   "pygments_lexer": "ipython3",
   "version": "3.11.5"
  }
 },
 "nbformat": 4,
 "nbformat_minor": 5
}
