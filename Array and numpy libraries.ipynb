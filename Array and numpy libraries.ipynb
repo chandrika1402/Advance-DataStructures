{
 "cells": [
  {
   "cell_type": "code",
   "execution_count": 2,
   "id": "4cf8b9ad",
   "metadata": {},
   "outputs": [
    {
     "name": "stdout",
     "output_type": "stream",
     "text": [
      "sum: 34\n",
      "Average: 4.857142857142857\n"
     ]
    }
   ],
   "source": [
    "import array as ar\n",
    "x = ar.array('i',[3,5,2,7,8,4,5])\n",
    "type(x)\n",
    "x_sum = sum(x)\n",
    "print(\"sum:\",x_sum)\n",
    "length = len(x)\n",
    "average = x_sum/length\n",
    "print(\"Average:\",average)"
   ]
  },
  {
   "cell_type": "code",
   "execution_count": 4,
   "id": "e75e043c",
   "metadata": {},
   "outputs": [
    {
     "name": "stdout",
     "output_type": "stream",
     "text": [
      "sum: 34\n",
      "Average: 4.857142857142857\n"
     ]
    }
   ],
   "source": [
    "import numpy as np\n",
    "x = np.array([3,5,2,7,8,4,5])\n",
    "type(x)\n",
    "x_sum = sum(x)\n",
    "print(\"sum:\",x_sum)\n",
    "length = len(x)\n",
    "average = x_sum/length\n",
    "print(\"Average:\",average)"
   ]
  },
  {
   "cell_type": "code",
   "execution_count": null,
   "id": "94cb24e4",
   "metadata": {},
   "outputs": [],
   "source": []
  }
 ],
 "metadata": {
  "kernelspec": {
   "display_name": "Python 3 (ipykernel)",
   "language": "python",
   "name": "python3"
  },
  "language_info": {
   "codemirror_mode": {
    "name": "ipython",
    "version": 3
   },
   "file_extension": ".py",
   "mimetype": "text/x-python",
   "name": "python",
   "nbconvert_exporter": "python",
   "pygments_lexer": "ipython3",
   "version": "3.11.5"
  }
 },
 "nbformat": 4,
 "nbformat_minor": 5
}
