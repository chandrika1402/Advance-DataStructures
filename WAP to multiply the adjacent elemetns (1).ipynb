{
 "cells": [
  {
   "cell_type": "code",
   "execution_count": 4,
   "id": "6f7523c7",
   "metadata": {},
   "outputs": [
    {
     "name": "stdout",
     "output_type": "stream",
     "text": [
      "Tuple: (2, 5, 10, 12, 7)\n",
      "Multiplying adjacent elements: (10, 50, 120, 84)\n"
     ]
    }
   ],
   "source": [
    "def multiply_adjacent_elements(a):\n",
    "    result = []\n",
    "    for i in range(len(a) - 1):\n",
    "        result.append(a[i] * a[i + 1])\n",
    "    \n",
    "    return tuple(result)\n",
    "\n",
    "a = (2, 5, 10, 12, 7)\n",
    "print(\"Tuple:\", a)\n",
    "print(\"Multiplying adjacent elements:\", multiply_adjacent_elements(a))\n"
   ]
  },
  {
   "cell_type": "code",
   "execution_count": null,
   "id": "d5bc6b51",
   "metadata": {},
   "outputs": [],
   "source": []
  }
 ],
 "metadata": {
  "kernelspec": {
   "display_name": "Python 3 (ipykernel)",
   "language": "python",
   "name": "python3"
  },
  "language_info": {
   "codemirror_mode": {
    "name": "ipython",
    "version": 3
   },
   "file_extension": ".py",
   "mimetype": "text/x-python",
   "name": "python",
   "nbconvert_exporter": "python",
   "pygments_lexer": "ipython3",
   "version": "3.11.5"
  }
 },
 "nbformat": 4,
 "nbformat_minor": 5
}
