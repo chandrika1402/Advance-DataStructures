{
 "cells": [
  {
   "cell_type": "code",
   "execution_count": 1,
   "id": "53fbfb88",
   "metadata": {},
   "outputs": [
    {
     "name": "stdout",
     "output_type": "stream",
     "text": [
      "[3, 4, 5]\n"
     ]
    }
   ],
   "source": [
    "#Given two arrays,write a python function to find the intersection of both Arrays\n",
    "import numpy as np\n",
    "\n",
    "def array_intersection(arr1, arr2):\n",
    "    return np.intersect1d(arr1, arr2).tolist()  \n",
    "\n",
    "arr1 = np.array([1, 2, 3, 4, 5])\n",
    "arr2 = np.array([3, 4, 5, 6, 7])\n",
    "print(array_intersection(arr1, arr2)) \n"
   ]
  },
  {
   "cell_type": "code",
   "execution_count": 4,
   "id": "9151c004",
   "metadata": {},
   "outputs": [
    {
     "name": "stdout",
     "output_type": "stream",
     "text": [
      "[20 30]\n"
     ]
    }
   ],
   "source": [
    "import numpy as np\n",
    "x1 = np.array([10,20,30,90])\n",
    "x2 = np.array([20,30,100,0])\n",
    "\n",
    "def arr_common(x1,x2):\n",
    "    new_arr=[]\n",
    "    for i in x1:\n",
    "        if i in x2:\n",
    "            new_arr.append(i)\n",
    "    return np.array(new_arr)\n",
    "\n",
    "result = arr_common(x1,x2)\n",
    "type(result)\n",
    "print(result)"
   ]
  }
 ],
 "metadata": {
  "kernelspec": {
   "display_name": "Python 3 (ipykernel)",
   "language": "python",
   "name": "python3"
  },
  "language_info": {
   "codemirror_mode": {
    "name": "ipython",
    "version": 3
   },
   "file_extension": ".py",
   "mimetype": "text/x-python",
   "name": "python",
   "nbconvert_exporter": "python",
   "pygments_lexer": "ipython3",
   "version": "3.11.5"
  }
 },
 "nbformat": 4,
 "nbformat_minor": 5
}
