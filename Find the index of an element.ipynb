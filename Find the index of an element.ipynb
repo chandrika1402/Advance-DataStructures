{
 "cells": [
  {
   "cell_type": "code",
   "execution_count": 2,
   "id": "2e4a006b",
   "metadata": {},
   "outputs": [
    {
     "name": "stdout",
     "output_type": "stream",
     "text": [
      "2\n",
      "-1\n"
     ]
    }
   ],
   "source": [
    "#Write a function that takes an array and an.element as input ,and returns thye index of the element in the array.\n",
    "#If the elements is not found,it should return-1\n",
    "\n",
    "import numpy as np\n",
    "\n",
    "def find_index(arr, element):\n",
    "    try:\n",
    "        return np.where(arr == element)[0][0]  # Get the first matching index\n",
    "    except IndexError:\n",
    "        return -1  # If no match is found, return -1\n",
    "\n",
    "# Example usage:\n",
    "arr = np.array([10, 20, 30, 40, 50])\n",
    "print(find_index(arr, 30))  \n",
    "print(find_index(arr, 100)) \n"
   ]
  },
  {
   "cell_type": "code",
   "execution_count": 12,
   "id": "eaa19a13",
   "metadata": {},
   "outputs": [
    {
     "name": "stdout",
     "output_type": "stream",
     "text": [
      "50\n",
      "3\n"
     ]
    }
   ],
   "source": [
    "import array as arr\n",
    "x = arr.array('i',[10,20,30,50,60])\n",
    "ele = int(input())\n",
    "def e_index(x,ele):\n",
    "    n = len(x)\n",
    "    try:\n",
    "        for i in range(n):\n",
    "            if  x[i] == ele:\n",
    "                return i\n",
    "        raise ValueError(\"not found\")\n",
    "    except ValueError:\n",
    "        return -1\n",
    "result = e_index(x,ele)\n",
    "print(result)"
   ]
  },
  {
   "cell_type": "code",
   "execution_count": 13,
   "id": "60915cfc",
   "metadata": {},
   "outputs": [
    {
     "name": "stdout",
     "output_type": "stream",
     "text": [
      "60\n",
      "4\n"
     ]
    }
   ],
   "source": [
    "import numpy as np\n",
    "x = np.array([10,20,30,50,60])\n",
    "ele = int(input())\n",
    "def e_index(x,ele):\n",
    "    n = len(x)\n",
    "    try:\n",
    "        for i in range(n):\n",
    "            if  x[i] == ele:\n",
    "                return i\n",
    "        raise ValueError(\"not found\")\n",
    "    except ValueError:\n",
    "        return -1\n",
    "result = e_index(x,ele)\n",
    "print(result)"
   ]
  }
 ],
 "metadata": {
  "kernelspec": {
   "display_name": "Python 3 (ipykernel)",
   "language": "python",
   "name": "python3"
  },
  "language_info": {
   "codemirror_mode": {
    "name": "ipython",
    "version": 3
   },
   "file_extension": ".py",
   "mimetype": "text/x-python",
   "name": "python",
   "nbconvert_exporter": "python",
   "pygments_lexer": "ipython3",
   "version": "3.11.5"
  }
 },
 "nbformat": 4,
 "nbformat_minor": 5
}
