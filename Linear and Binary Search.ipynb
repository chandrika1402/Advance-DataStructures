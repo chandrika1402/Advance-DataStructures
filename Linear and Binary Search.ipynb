{
 "cells": [
  {
   "cell_type": "code",
   "execution_count": 5,
   "id": "f440c514",
   "metadata": {},
   "outputs": [
    {
     "name": "stdout",
     "output_type": "stream",
     "text": [
      "Unique element: 4\n"
     ]
    }
   ],
   "source": [
    "#Linear Search:Implement the Standard linear search to find the unique element\n",
    "\n",
    "def find_unique(arr):\n",
    "    count_map = {}\n",
    "    for num in arr:\n",
    "        count_map[num] = count_map.get(num, 0) + 1\n",
    "    for num in arr:\n",
    "        if count_map[num] == 1:\n",
    "            return num  \n",
    "    return None \n",
    "\n",
    "arr = [1, 1, 2, 2, 3, 3, 4, 5, 5]\n",
    "unique_element = find_unique(arr)\n",
    "print(\"Unique element:\", unique_element)"
   ]
  },
  {
   "cell_type": "code",
   "execution_count": 8,
   "id": "c54a5916",
   "metadata": {},
   "outputs": [
    {
     "name": "stdout",
     "output_type": "stream",
     "text": [
      "Unique element: 4\n"
     ]
    }
   ],
   "source": [
    "#Binary Search : Implement the standard linear search algorithm to find the unique element in o(log n) time,\n",
    "#exploiting the fact that the array is sorted\n",
    "def find_unique(arr):\n",
    "    left, right = 0, len(arr) - 1\n",
    "    \n",
    "    while left < right:\n",
    "        mid = left + (right - left) // 2\n",
    "        if mid % 2 == 1:\n",
    "            mid -= 1  \n",
    "        if arr[mid] == arr[mid + 1]:\n",
    "            left = mid + 2\n",
    "        else:\n",
    "            right = mid\n",
    "\n",
    "    return arr[left]  \n",
    "\n",
    "arr = [1, 1, 2, 2, 3, 3, 4, 5, 5]\n",
    "unique_element = find_unique(arr)\n",
    "print(\"Unique element:\", unique_element)\n"
   ]
  },
  {
   "cell_type": "code",
   "execution_count": null,
   "id": "93e30fcb",
   "metadata": {},
   "outputs": [],
   "source": []
  }
 ],
 "metadata": {
  "kernelspec": {
   "display_name": "Python 3 (ipykernel)",
   "language": "python",
   "name": "python3"
  },
  "language_info": {
   "codemirror_mode": {
    "name": "ipython",
    "version": 3
   },
   "file_extension": ".py",
   "mimetype": "text/x-python",
   "name": "python",
   "nbconvert_exporter": "python",
   "pygments_lexer": "ipython3",
   "version": "3.11.5"
  }
 },
 "nbformat": 4,
 "nbformat_minor": 5
}
