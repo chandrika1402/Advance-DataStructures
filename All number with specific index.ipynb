{
 "cells": [
  {
   "cell_type": "code",
   "execution_count": 1,
   "id": "2910c665",
   "metadata": {},
   "outputs": [
    {
     "name": "stdout",
     "output_type": "stream",
     "text": [
      "4\n"
     ]
    }
   ],
   "source": [
    "n = 13\n",
    "d = 2\n",
    "l = 1\n",
    "h = 13\n",
    "\n",
    "while l <= h:  \n",
    "    mid = (h + l) // 2\n",
    "    sum_dig = mid // 10 + mid % 10\n",
    "    diff = mid - sum_dig\n",
    "\n",
    "    if diff <= 2:\n",
    "        l = mid + 1\n",
    "    else:\n",
    "        h = mid - 1\n",
    "\n",
    "else:\n",
    "    print(n - h)"
   ]
  },
  {
   "cell_type": "code",
   "execution_count": 2,
   "id": "1d78d6ad",
   "metadata": {},
   "outputs": [
    {
     "name": "stdout",
     "output_type": "stream",
     "text": [
      "4\n"
     ]
    }
   ],
   "source": [
    "N=13;D=2\n",
    "low=1;high=N\n",
    "while low<=high:\n",
    "    mid=(high+low)//2\n",
    "    sum_digits= sum(int(i) for i in str(mid))\n",
    "    diff=(mid-sum_digits)\n",
    "    if abs(diff)<=2:\n",
    "        low=mid+1\n",
    "    else:\n",
    "        high=mid-1\n",
    "print(N-high)"
   ]
  }
 ],
 "metadata": {
  "kernelspec": {
   "display_name": "Python 3 (ipykernel)",
   "language": "python",
   "name": "python3"
  },
  "language_info": {
   "codemirror_mode": {
    "name": "ipython",
    "version": 3
   },
   "file_extension": ".py",
   "mimetype": "text/x-python",
   "name": "python",
   "nbconvert_exporter": "python",
   "pygments_lexer": "ipython3",
   "version": "3.11.5"
  }
 },
 "nbformat": 4,
 "nbformat_minor": 5
}
