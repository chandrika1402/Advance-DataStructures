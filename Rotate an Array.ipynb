{
 "cells": [
  {
   "cell_type": "code",
   "execution_count": 1,
   "id": "ab4e74d2",
   "metadata": {},
   "outputs": [
    {
     "name": "stdout",
     "output_type": "stream",
     "text": [
      "[4, 5, 1, 2, 3]\n"
     ]
    }
   ],
   "source": [
    "#Write a function to rotate an array to right by k-positions\n",
    "def rotate(array, k):\n",
    "    k = k % len(array)\n",
    "    array.reverse()\n",
    "    array[:k] = reversed(array[:k])\n",
    "    array[k:] = reversed(array[k:])\n",
    "array = [1, 2, 3, 4, 5]\n",
    "rotate(array, 2)\n",
    "print(array)  \n"
   ]
  },
  {
   "cell_type": "code",
   "execution_count": 2,
   "id": "8557aedd",
   "metadata": {},
   "outputs": [
    {
     "name": "stdout",
     "output_type": "stream",
     "text": [
      "[3, 4, 5, 1, 2]\n"
     ]
    }
   ],
   "source": [
    "#Write a function to rotate an array to right by k-positions\n",
    "def rotate(array, k):\n",
    "    k = k % len(array)\n",
    "    array.reverse()\n",
    "    array[:k] = reversed(array[:k])\n",
    "    array[k:] = reversed(array[k:])\n",
    "array = [1, 2, 3, 4, 5]\n",
    "rotate(array, 3)\n",
    "print(array)  \n"
   ]
  }
 ],
 "metadata": {
  "kernelspec": {
   "display_name": "Python 3 (ipykernel)",
   "language": "python",
   "name": "python3"
  },
  "language_info": {
   "codemirror_mode": {
    "name": "ipython",
    "version": 3
   },
   "file_extension": ".py",
   "mimetype": "text/x-python",
   "name": "python",
   "nbconvert_exporter": "python",
   "pygments_lexer": "ipython3",
   "version": "3.11.5"
  }
 },
 "nbformat": 4,
 "nbformat_minor": 5
}
