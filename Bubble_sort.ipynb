{
 "cells": [
  {
   "cell_type": "code",
   "execution_count": null,
   "id": "0e0ba8be",
   "metadata": {},
   "outputs": [],
   "source": [
    "def bubble_sort(list):\n",
    "    size = len(list)\n",
    "    for i in range (size-1):\n",
    "        for j in range(size-1):\n",
    "            if list\n",
    "            \n",
    "            \n",
    "n = int(input(\"Enter number of elements:\"))\n",
    "lst=[ ]\n",
    "for i in range(n):\n",
    "    num = int(input(\"Enter elements:\"))\n",
    "    lst.append(num)\n",
    "    \n",
    "bubble_sort1\n"
   ]
  }
 ],
 "metadata": {
  "kernelspec": {
   "display_name": "Python 3 (ipykernel)",
   "language": "python",
   "name": "python3"
  },
  "language_info": {
   "codemirror_mode": {
    "name": "ipython",
    "version": 3
   },
   "file_extension": ".py",
   "mimetype": "text/x-python",
   "name": "python",
   "nbconvert_exporter": "python",
   "pygments_lexer": "ipython3",
   "version": "3.11.5"
  }
 },
 "nbformat": 4,
 "nbformat_minor": 5
}
