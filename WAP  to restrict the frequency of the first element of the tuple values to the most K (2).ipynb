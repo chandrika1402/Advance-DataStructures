{
 "cells": [
  {
   "cell_type": "code",
   "execution_count": 2,
   "id": "2fc6cb0a",
   "metadata": {},
   "outputs": [
    {
     "name": "stdout",
     "output_type": "stream",
     "text": [
      "[(2, 3), (3, 3), (1, 4), (2, 4), (3, 4), (1, 4), (4, 7)]\n"
     ]
    }
   ],
   "source": [
    "from collections import Counter\n",
    "\n",
    "def frequency(lst,a):\n",
    "    count = Counter([t[0] for t in lst])\n",
    "    result = []\n",
    "    b = {key: 0 for key in count}\n",
    "    \n",
    "    for t in lst:\n",
    "        if b[t[0]] < a:\n",
    "            result.append(t)\n",
    "            b[t[0]] += 1\n",
    "            \n",
    "    return result\n",
    "\n",
    "list = [(2,3), (3,3), (1,4), (2,4), (3,4), (1,4), (3,4), (4,7)]\n",
    "a = 2\n",
    "output = frequency(list, a)\n",
    "print(output)\n"
   ]
  },
  {
   "cell_type": "code",
   "execution_count": null,
   "id": "d9992c0a",
   "metadata": {},
   "outputs": [],
   "source": []
  }
 ],
 "metadata": {
  "kernelspec": {
   "display_name": "Python 3 (ipykernel)",
   "language": "python",
   "name": "python3"
  },
  "language_info": {
   "codemirror_mode": {
    "name": "ipython",
    "version": 3
   },
   "file_extension": ".py",
   "mimetype": "text/x-python",
   "name": "python",
   "nbconvert_exporter": "python",
   "pygments_lexer": "ipython3",
   "version": "3.11.5"
  }
 },
 "nbformat": 4,
 "nbformat_minor": 5
}
