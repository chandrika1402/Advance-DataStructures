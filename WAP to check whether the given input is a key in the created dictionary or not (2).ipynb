{
 "cells": [
  {
   "cell_type": "code",
   "execution_count": 2,
   "id": "506f63c0",
   "metadata": {},
   "outputs": [
    {
     "name": "stdout",
     "output_type": "stream",
     "text": [
      "Enter the key to check: 40\n",
      "Is not a key in the dictionary. 40\n"
     ]
    }
   ],
   "source": [
    "def check_key_in_dict(dictionary, key):\n",
    "    if key in dictionary:\n",
    "        return True\n",
    "    else:\n",
    "        return False\n",
    "\n",
    "dict = {'a': 10, 'b': 20, 'c': 30, 'd': 40}\n",
    "n    = input(\"Enter the key to check: \")\n",
    "\n",
    "if check_key_in_dict(dict, n):\n",
    "    print(\"Is a key in the dictionary.\",dict)\n",
    "else:\n",
    "    print(\"Is not a key in the dictionary.\",n)\n"
   ]
  },
  {
   "cell_type": "code",
   "execution_count": null,
   "id": "0d4c340a",
   "metadata": {},
   "outputs": [],
   "source": []
  }
 ],
 "metadata": {
  "kernelspec": {
   "display_name": "Python 3 (ipykernel)",
   "language": "python",
   "name": "python3"
  },
  "language_info": {
   "codemirror_mode": {
    "name": "ipython",
    "version": 3
   },
   "file_extension": ".py",
   "mimetype": "text/x-python",
   "name": "python",
   "nbconvert_exporter": "python",
   "pygments_lexer": "ipython3",
   "version": "3.11.5"
  }
 },
 "nbformat": 4,
 "nbformat_minor": 5
}
