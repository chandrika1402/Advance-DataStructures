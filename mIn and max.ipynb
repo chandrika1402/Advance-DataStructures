{
 "cells": [
  {
   "cell_type": "code",
   "execution_count": 2,
   "id": "5f27cb26",
   "metadata": {},
   "outputs": [
    {
     "name": "stdout",
     "output_type": "stream",
     "text": [
      "array('i', [1, 2, 3, 4, 5])\n"
     ]
    }
   ],
   "source": [
    "import array\n",
    "\n",
    "my_array = array.array('i', [1, 2, 3, 4, 5])  \n",
    "print(my_array)\n"
   ]
  },
  {
   "cell_type": "code",
   "execution_count": 3,
   "id": "fae90801",
   "metadata": {},
   "outputs": [
    {
     "name": "stdout",
     "output_type": "stream",
     "text": [
      "10\n",
      "20\n",
      "30\n",
      "40\n",
      "50\n"
     ]
    }
   ],
   "source": [
    "from array import *\n",
    "array1 = array('i',[10,20,30,40,50])\n",
    "for x in array1:\n",
    "    print(x)"
   ]
  },
  {
   "cell_type": "code",
   "execution_count": 4,
   "id": "87fa22c3",
   "metadata": {},
   "outputs": [
    {
     "name": "stdout",
     "output_type": "stream",
     "text": [
      "10\n",
      "10\n"
     ]
    }
   ],
   "source": [
    "from array import *\n",
    "array1 = array('i',[10,20,30,40,50])\n",
    "print(array1[0])\n",
    "print(array1[0])"
   ]
  },
  {
   "cell_type": "code",
   "execution_count": 6,
   "id": "6c7f913a",
   "metadata": {},
   "outputs": [
    {
     "name": "stdout",
     "output_type": "stream",
     "text": [
      "10\n",
      "60\n",
      "20\n",
      "30\n",
      "40\n",
      "50\n"
     ]
    }
   ],
   "source": [
    "from array import *\n",
    "array1 = array('i',[10,20,30,40,50])\n",
    "array1.insert(1,60)\n",
    "for x in array1:\n",
    "    print(x)"
   ]
  },
  {
   "cell_type": "code",
   "execution_count": 8,
   "id": "94183e8e",
   "metadata": {},
   "outputs": [
    {
     "name": "stdout",
     "output_type": "stream",
     "text": [
      "10\n",
      "20\n",
      "30\n",
      "50\n"
     ]
    }
   ],
   "source": [
    "from array import *\n",
    "array1 = array('i',[10,20,30,40,50])\n",
    "array1.remove(40)\n",
    "for x in array1:\n",
    "    print(x)"
   ]
  },
  {
   "cell_type": "code",
   "execution_count": 10,
   "id": "e4dcb2e4",
   "metadata": {},
   "outputs": [
    {
     "name": "stdout",
     "output_type": "stream",
     "text": [
      "3\n"
     ]
    }
   ],
   "source": [
    "from array import *\n",
    "array1 = array('i',[10,20,30,40,50])\n",
    "print(array1.index(40))"
   ]
  },
  {
   "cell_type": "code",
   "execution_count": 11,
   "id": "bcd08b4d",
   "metadata": {},
   "outputs": [
    {
     "name": "stdout",
     "output_type": "stream",
     "text": [
      "10\n",
      "20\n",
      "80\n",
      "40\n",
      "50\n"
     ]
    }
   ],
   "source": [
    "from array import *\n",
    "array1 = array('i',[10,20,30,40,50])\n",
    "array1[2] = 80 \n",
    "for x in array1:\n",
    "    print(x)"
   ]
  },
  {
   "cell_type": "code",
   "execution_count": 13,
   "id": "a25ef7bc",
   "metadata": {},
   "outputs": [
    {
     "name": "stdout",
     "output_type": "stream",
     "text": [
      "Smallest: 5\n",
      "Largest: 20\n"
     ]
    }
   ],
   "source": [
    "def find_min_max(arr):\n",
    "    if not arr:\n",
    "        return None, None \n",
    "    smallest = min(arr)\n",
    "    largest = max(arr)\n",
    "    return smallest, largest\n",
    "array = [10, 5, 20, 8, 15]\n",
    "smallest, largest = find_min_max(array)\n",
    "\n",
    "print(\"Smallest:\",smallest)\n",
    "print(\"Largest:\",largest)\n"
   ]
  },
  {
   "cell_type": "code",
   "execution_count": 14,
   "id": "f52d7ce3",
   "metadata": {},
   "outputs": [
    {
     "name": "stdout",
     "output_type": "stream",
     "text": [
      "(5, 20)\n"
     ]
    }
   ],
   "source": [
    "def find_min_max(arr):\n",
    "    return min(arr), max(arr)\n",
    "\n",
    "my_array = [10, 5, 20, 8, 15]\n",
    "print(find_min_max(my_array)) \n"
   ]
  },
  {
   "cell_type": "code",
   "execution_count": 15,
   "id": "3fe11017",
   "metadata": {},
   "outputs": [
    {
     "name": "stdout",
     "output_type": "stream",
     "text": [
      "50\n",
      "10\n"
     ]
    }
   ],
   "source": [
    "from array import *\n",
    "array1 = array('i',[10,20,30,40,50])\n",
    "print(max(array1))\n",
    "print(min(array1))"
   ]
  },
  {
   "cell_type": "code",
   "execution_count": null,
   "id": "f22df6f6",
   "metadata": {},
   "outputs": [],
   "source": []
  }
 ],
 "metadata": {
  "kernelspec": {
   "display_name": "Python 3 (ipykernel)",
   "language": "python",
   "name": "python3"
  },
  "language_info": {
   "codemirror_mode": {
    "name": "ipython",
    "version": 3
   },
   "file_extension": ".py",
   "mimetype": "text/x-python",
   "name": "python",
   "nbconvert_exporter": "python",
   "pygments_lexer": "ipython3",
   "version": "3.11.5"
  }
 },
 "nbformat": 4,
 "nbformat_minor": 5
}
