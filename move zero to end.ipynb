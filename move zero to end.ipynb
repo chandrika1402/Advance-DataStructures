{
 "cells": [
  {
   "cell_type": "code",
   "execution_count": 2,
   "id": "698b856e",
   "metadata": {},
   "outputs": [
    {
     "name": "stdout",
     "output_type": "stream",
     "text": [
      "Last Index of one: 5\n"
     ]
    }
   ],
   "source": [
    "#last index of one\n",
    "import numpy as np\n",
    "x = np.array([0,1,0,1,1,1,0])\n",
    "def last_occurence_1(x):\n",
    "    n = len(x)\n",
    "    index = -1\n",
    "    for i in range(n):\n",
    "        if x[i] == 1:\n",
    "            index = i\n",
    "    return index\n",
    "print(\"Last Index of one:\",last_occurence_1(x))\n",
    "                 "
   ]
  },
  {
   "cell_type": "code",
   "execution_count": 2,
   "id": "fb725145",
   "metadata": {},
   "outputs": [
    {
     "name": "stdout",
     "output_type": "stream",
     "text": [
      "output: [1, 1, 1, 1, 0, 0, 0]\n"
     ]
    }
   ],
   "source": [
    "import numpy as np\n",
    "x=[0,1,0,1,1,1,0]\n",
    "def move_zero_to_end(x):\n",
    "    ones=x.count(1)\n",
    "    zeros=x.count(0)\n",
    "    result=[1]*ones+[0]*zeros\n",
    "    return result\n",
    "print(\"output:\",move_zero_to_end(x))"
   ]
  },
  {
   "cell_type": "code",
   "execution_count": null,
   "id": "28c41b6d",
   "metadata": {},
   "outputs": [],
   "source": []
  }
 ],
 "metadata": {
  "kernelspec": {
   "display_name": "Python 3 (ipykernel)",
   "language": "python",
   "name": "python3"
  },
  "language_info": {
   "codemirror_mode": {
    "name": "ipython",
    "version": 3
   },
   "file_extension": ".py",
   "mimetype": "text/x-python",
   "name": "python",
   "nbconvert_exporter": "python",
   "pygments_lexer": "ipython3",
   "version": "3.11.5"
  }
 },
 "nbformat": 4,
 "nbformat_minor": 5
}
