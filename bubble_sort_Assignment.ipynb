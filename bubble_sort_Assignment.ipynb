{
 "cells": [
  {
   "cell_type": "code",
   "execution_count": 5,
   "id": "8108d241",
   "metadata": {},
   "outputs": [
    {
     "name": "stdout",
     "output_type": "stream",
     "text": [
      "Sorted array in Descending order: [50, 36, 25, 24, 15, 10]\n"
     ]
    }
   ],
   "source": [
    "#Bubble sort-Descending order\n",
    "def bubble_sort(arr):\n",
    "    n = len(arr)\n",
    "    for i in range(n):\n",
    "        for j in range(0, n - i - 1):\n",
    "            if arr[j] < arr[j + 1]:  \n",
    "                arr[j], arr[j + 1] = arr[j + 1], arr[j]\n",
    "\n",
    "\n",
    "arr = [10,50,25,36,24,15]\n",
    "bubble_sort(arr)\n",
    "print(\"Sorted array in Descending order:\", arr)\n"
   ]
  },
  {
   "cell_type": "code",
   "execution_count": 10,
   "id": "1dd280e8",
   "metadata": {},
   "outputs": [
    {
     "name": "stdout",
     "output_type": "stream",
     "text": [
      "Sorted array in ascending order: [0, 10, 10, 20, 20, 20, 30, 40, 70]\n",
      "Swap count for each element:\n",
      "Element 10: 5 swaps\n",
      "Element 20: 8 swaps\n",
      "Element 30: 4 swaps\n",
      "Element 0: 5 swaps\n",
      "Element 40: 1 swaps\n",
      "Element 70: 1 swaps\n"
     ]
    }
   ],
   "source": [
    "def bubble_sort_ascending(arr):\n",
    "    n = len(arr)\n",
    "    swap_count = {num: 0 for num in arr} \n",
    "\n",
    "    for i in range(n):\n",
    "        swapped = False\n",
    "        for j in range(n - i - 1):\n",
    "            if arr[j] > arr[j + 1]:  \n",
    "                arr[j], arr[j + 1] = arr[j + 1], arr[j]\n",
    "                swap_count[arr[j]] += 1  \n",
    "                swap_count[arr[j + 1]] += 1\n",
    "                swapped = True\n",
    "        if not swapped:  \n",
    "            break\n",
    "\n",
    "    return arr, swap_count\n",
    "\n",
    "arr = [10,20,30,20,10,0,40,70,20]\n",
    "sorted_arr, swap_counts = bubble_sort_ascending(arr)\n",
    "\n",
    "print(\"Sorted array in ascending order:\", sorted_arr)\n",
    "print(\"Swap count for each element:\")\n",
    "for key, value in swap_counts.items():\n",
    "    print(f\"Element {key}: {value} swaps\")\n"
   ]
  },
  {
   "cell_type": "code",
   "execution_count": null,
   "id": "ac5a0e9c",
   "metadata": {},
   "outputs": [],
   "source": []
  },
  {
   "cell_type": "code",
   "execution_count": null,
   "id": "688a41b9",
   "metadata": {},
   "outputs": [],
   "source": []
  }
 ],
 "metadata": {
  "kernelspec": {
   "display_name": "Python 3 (ipykernel)",
   "language": "python",
   "name": "python3"
  },
  "language_info": {
   "codemirror_mode": {
    "name": "ipython",
    "version": 3
   },
   "file_extension": ".py",
   "mimetype": "text/x-python",
   "name": "python",
   "nbconvert_exporter": "python",
   "pygments_lexer": "ipython3",
   "version": "3.11.5"
  }
 },
 "nbformat": 4,
 "nbformat_minor": 5
}
