{
 "cells": [
  {
   "cell_type": "code",
   "execution_count": 2,
   "id": "9624ea12",
   "metadata": {},
   "outputs": [
    {
     "name": "stdout",
     "output_type": "stream",
     "text": [
      "14\n",
      "63\n"
     ]
    },
    {
     "ename": "IndexError",
     "evalue": "list index out of range",
     "output_type": "error",
     "traceback": [
      "\u001b[1;31m---------------------------------------------------------------------------\u001b[0m",
      "\u001b[1;31mIndexError\u001b[0m                                Traceback (most recent call last)",
      "Cell \u001b[1;32mIn[2], line 28\u001b[0m\n\u001b[0;32m     26\u001b[0m m\u001b[38;5;241m=\u001b[39m\u001b[38;5;28mint\u001b[39m(\u001b[38;5;28minput\u001b[39m())\n\u001b[0;32m     27\u001b[0m n\u001b[38;5;241m=\u001b[39m\u001b[38;5;28mint\u001b[39m(\u001b[38;5;28minput\u001b[39m())\n\u001b[1;32m---> 28\u001b[0m \u001b[38;5;28mprint\u001b[39m(simple_gcd(m,n))\n",
      "Cell \u001b[1;32mIn[2], line 24\u001b[0m, in \u001b[0;36msimple_gcd\u001b[1;34m(m, n)\u001b[0m\n\u001b[0;32m     22\u001b[0m     \u001b[38;5;28;01mif\u001b[39;00m f \u001b[38;5;129;01min\u001b[39;00m fn:\n\u001b[0;32m     23\u001b[0m         cf\u001b[38;5;241m.\u001b[39mappend(f)\n\u001b[1;32m---> 24\u001b[0m \u001b[38;5;28;01mreturn\u001b[39;00m(cf[\u001b[38;5;241m-\u001b[39m\u001b[38;5;241m1\u001b[39m])\n",
      "\u001b[1;31mIndexError\u001b[0m: list index out of range"
     ]
    }
   ],
   "source": [
    "#Algorithm Simple_gcd(m,n)\n",
    "# use fm,fn for the list of factors m and n respectively\n",
    "# for each i from 1 to m,add i to fm if i divides m\n",
    "# for each j from 1 to n,add j to fn if j divides n\n",
    "# use cf for list of factors\n",
    "# for each f in fm,add f to cf if f also appearsin fn\n",
    "# Return the largest k(rightmost)\n",
    "\n",
    "\n",
    "\n",
    "def simple_gcd(m,n):\n",
    "    fm=[]\n",
    "    for i in range(1,m+1):\n",
    "        if(m%i)==0:\n",
    "            fm.append(i)\n",
    "    fn=[]\n",
    "    for j in range(1,n+1):\n",
    "        if(n%i)==0:\n",
    "            fn.append(j)\n",
    "    cf=[]\n",
    "    for f in fm:\n",
    "        if f in fn:\n",
    "            cf.append(f)\n",
    "    return(cf[-1])\n",
    "\n",
    "m=int(input())\n",
    "n=int(input())\n",
    "print(simple_gcd(m,n))\n"
   ]
  },
  {
   "cell_type": "code",
   "execution_count": 3,
   "id": "21baec4a",
   "metadata": {},
   "outputs": [
    {
     "name": "stdout",
     "output_type": "stream",
     "text": [
      "7\n"
     ]
    }
   ],
   "source": [
    "def gcd(m,n):\n",
    "    cf=[]\n",
    "    for i in range(1,min(m,n)+1):\n",
    "        if(m%i)==0 and (n%i) == 0:\n",
    "            cf.append(i)\n",
    "    return(cf[-1])\n",
    "print(gcd(m,n))"
   ]
  },
  {
   "cell_type": "code",
   "execution_count": 6,
   "id": "122b43a1",
   "metadata": {},
   "outputs": [
    {
     "name": "stdout",
     "output_type": "stream",
     "text": [
      "7\n"
     ]
    }
   ],
   "source": [
    "def gcd(m,n):\n",
    "    for i in range(1,min(m,n)+1):\n",
    "        if (m%i) == 0 and (n%i) == 0:\n",
    "            mrcf = i\n",
    "    return(mrcf)\n",
    "print(gcd(m,n))"
   ]
  },
  {
   "cell_type": "code",
   "execution_count": 9,
   "id": "195c0c92",
   "metadata": {},
   "outputs": [
    {
     "name": "stdout",
     "output_type": "stream",
     "text": [
      "7\n"
     ]
    }
   ],
   "source": [
    "def gcd(m,n):\n",
    "    i=min(m,n)\n",
    "    while i > 0:\n",
    "        if(m%i) == 0 and (n%i) == 0:\n",
    "            return(i)\n",
    "        else:\n",
    "            i=i-1\n",
    "print(gcd(m,n))"
   ]
  },
  {
   "cell_type": "code",
   "execution_count": null,
   "id": "27f639d9",
   "metadata": {},
   "outputs": [],
   "source": []
  }
 ],
 "metadata": {
  "kernelspec": {
   "display_name": "Python 3 (ipykernel)",
   "language": "python",
   "name": "python3"
  },
  "language_info": {
   "codemirror_mode": {
    "name": "ipython",
    "version": 3
   },
   "file_extension": ".py",
   "mimetype": "text/x-python",
   "name": "python",
   "nbconvert_exporter": "python",
   "pygments_lexer": "ipython3",
   "version": "3.11.5"
  }
 },
 "nbformat": 4,
 "nbformat_minor": 5
}
