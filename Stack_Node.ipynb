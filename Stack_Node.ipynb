{
 "cells": [
  {
   "cell_type": "code",
   "execution_count": 5,
   "id": "c67d71af",
   "metadata": {},
   "outputs": [
    {
     "ename": "SyntaxError",
     "evalue": "invalid syntax (3066043747.py, line 20)",
     "output_type": "error",
     "traceback": [
      "\u001b[1;36m  Cell \u001b[1;32mIn[5], line 20\u001b[1;36m\u001b[0m\n\u001b[1;33m    While curNode is not None:\u001b[0m\n\u001b[1;37m          ^\u001b[0m\n\u001b[1;31mSyntaxError\u001b[0m\u001b[1;31m:\u001b[0m invalid syntax\n"
     ]
    }
   ],
   "source": [
    "class StackNode:\n",
    "    def __init__(self, NewData, link):\n",
    "        self.data = NewData\n",
    "        self.next = link\n",
    "class Stack:\n",
    "    def __init__(self):\n",
    "        self.top = None\n",
    "    def isempty(self):\n",
    "        return self.top is None\n",
    "    def peek(self):\n",
    "        return self.top.data\n",
    "    def pop(self):\n",
    "        node = self.top\n",
    "        self.top = self.top.next\n",
    "        return node.data\n",
    "    def push(self,NewData):\n",
    "        self.top = StackNode(NewData, self.top)\n",
    "    def display(self):\n",
    "        CurNode = self.top\n",
    "        While curNode is not None:\n",
    "            print(curNode.data)\n",
    "            curNode = curNode.next\n",
    "            \n",
    "s = Stack()\n",
    "while(True):\n",
    "    print(\"Program to implement the stack using Linked list\")\n",
    "    print(\"1.Push\")\n",
    "    print(\"2.pop\")\n",
    "    print(\"3.Peek\")\n",
    "    print(\"4.Display\")\n",
    "    print(\"5.Exit\")\n",
    "    choice = int(input(\"Enter the Choice:\"))\n",
    "    if choice == 1:\n",
    "        num = int(input(\"Enter the Data:\"))\n",
    "        s.push(num)\n",
    "    elif choice == 2:\n",
    "        if s.isempty():\n",
    "            print(\"Stack is empty\")\n",
    "        else:\n",
    "            num = s.pop()\n",
    "            print(\"The popped elements:\",num)\n",
    "    elif choice == 3:\n",
    "        if s.isempty():\n",
    "            print(\"Stack underflow!!!\")\n",
    "        else:\n",
    "            num = s.pop()\n",
    "            print(\"The popped elements:\",num)\n",
    "    elif choice == 4:\n",
    "        if s.display()\n",
    "    elif choice == 5:\n",
    "            print(\"Quitting!!!\")\n",
    "            break\n",
    "    else:\n",
    "            print(\"Invalid choice!!! Enter the correct choice(1-5)\")\n",
    "            continue"
   ]
  },
  {
   "cell_type": "code",
   "execution_count": null,
   "id": "5cd3687f",
   "metadata": {},
   "outputs": [],
   "source": []
  }
 ],
 "metadata": {
  "kernelspec": {
   "display_name": "Python 3 (ipykernel)",
   "language": "python",
   "name": "python3"
  },
  "language_info": {
   "codemirror_mode": {
    "name": "ipython",
    "version": 3
   },
   "file_extension": ".py",
   "mimetype": "text/x-python",
   "name": "python",
   "nbconvert_exporter": "python",
   "pygments_lexer": "ipython3",
   "version": "3.11.5"
  }
 },
 "nbformat": 4,
 "nbformat_minor": 5
}
