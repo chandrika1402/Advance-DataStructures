{
 "cells": [
  {
   "cell_type": "code",
   "execution_count": 3,
   "id": "1a19fcab",
   "metadata": {},
   "outputs": [
    {
     "name": "stdout",
     "output_type": "stream",
     "text": [
      "Enter number of elements3\n",
      "Enter elements:14\n",
      "Enter elements:21\n",
      "Enter elements:19\n",
      "enter the searching elements:5\n",
      "Element not found\n"
     ]
    }
   ],
   "source": [
    "def linear_search(list,key):\n",
    "    size=len(list)\n",
    "    index=0\n",
    "    while index<size:\n",
    "        if list[index]==key:\n",
    "            return index\n",
    "        index=index+1\n",
    "    return -1\n",
    "\n",
    "n=int(input(\"Enter number of elements\"))\n",
    "lst=[]\n",
    "for i in range(n):\n",
    "    num = int(input(\"Enter elements:\"))\n",
    "    lst.append(num)\n",
    "key=int(input(\"enter the searching elements:\"))\n",
    "position=linear_search(lst,key)\n",
    "if position == -1:\n",
    "    print(\"Element not found\")\n",
    "else:\n",
    "    print(\"{} Element found at position {}\".format(key,position))"
   ]
  },
  {
   "cell_type": "code",
   "execution_count": null,
   "id": "755da388",
   "metadata": {},
   "outputs": [],
   "source": [
    "0 "
   ]
  }
 ],
 "metadata": {
  "kernelspec": {
   "display_name": "Python 3 (ipykernel)",
   "language": "python",
   "name": "python3"
  },
  "language_info": {
   "codemirror_mode": {
    "name": "ipython",
    "version": 3
   },
   "file_extension": ".py",
   "mimetype": "text/x-python",
   "name": "python",
   "nbconvert_exporter": "python",
   "pygments_lexer": "ipython3",
   "version": "3.11.5"
  }
 },
 "nbformat": 4,
 "nbformat_minor": 5
}
