{
 "cells": [
  {
   "cell_type": "code",
   "execution_count": null,
   "id": "e62ceaff",
   "metadata": {},
   "outputs": [],
   "source": [
    "def selection_sort(list):\n",
    "    size = len(list)\n",
    "    for i in range(size-1):\n",
    "        min = list[i]\n",
    "        posn = i\n",
    "        for j in range(i+1,size):\n",
    "            min = list[j]\n",
    "            posn = j\n",
    "    if j! = posn:\n",
    "        temp=list[i]\n",
    "        list[i]=list[posn]\n",
    "        list[posn]=temp\n",
    "        \n",
    "n=int(input(\"Enter number of elements:\"))\n",
    "lst=[ ]\n",
    "for i in range(n):\n",
    "    "
   ]
  }
 ],
 "metadata": {
  "kernelspec": {
   "display_name": "Python 3 (ipykernel)",
   "language": "python",
   "name": "python3"
  },
  "language_info": {
   "codemirror_mode": {
    "name": "ipython",
    "version": 3
   },
   "file_extension": ".py",
   "mimetype": "text/x-python",
   "name": "python",
   "nbconvert_exporter": "python",
   "pygments_lexer": "ipython3",
   "version": "3.11.5"
  }
 },
 "nbformat": 4,
 "nbformat_minor": 5
}
