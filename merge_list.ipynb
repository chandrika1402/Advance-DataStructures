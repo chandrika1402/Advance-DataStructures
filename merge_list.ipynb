{
 "cells": [
  {
   "cell_type": "code",
   "execution_count": 9,
   "id": "15e9bf95",
   "metadata": {},
   "outputs": [
    {
     "name": "stdout",
     "output_type": "stream",
     "text": [
      "enter number of elements:7\n",
      "enter elements:45\n",
      "enter elements:56\n",
      "enter elements:98\n",
      "enter elements:35\n",
      "enter elements:47\n",
      "enter elements:45\n",
      "enter elements:66\n",
      "original Array: [45, 56, 98, 35, 47, 45, 66]\n",
      "sorted array: [35, 45, 45, 56, 98, 47, 66]\n"
     ]
    }
   ],
   "source": [
    "def MergeList(list,lst,lend,rst,rend):\n",
    "    temp=[]\n",
    "    i =lst#i points to the begining of the left subarray\n",
    "    j =rst#j points to the begining of the right subarray\n",
    "    while i<=lend and j<=rend:\n",
    "        if arr[i]<arr[j]:\n",
    "            temp.append(arr[i])\n",
    "            i+=1\n",
    "        else:\n",
    "            temp.append(arr[j])\n",
    "            j+=1\n",
    "            #If there are any remaing elements in the left subarray\n",
    "            while i<= lend:  \n",
    "                temp.append(arr[i])\n",
    "                i += 1\n",
    "                #If there are any remaing elements in the right subarray\n",
    "            while j<=rend: \n",
    "                temp.append(arr[j])\n",
    "                j += 1 \n",
    "                #Copy the sorted elements back into the original array\n",
    "            for i in range(lst,rend+1):    \n",
    "               arr[i]=temp[i-lst]\n",
    "def mergesort(arr,left,right):\n",
    "    if left<right:\n",
    "        mid=(left+right)//2 #Correct mid calculation\n",
    "         #Recursively sort the two halves\n",
    "        mergesort(arr,left,mid)\n",
    "        mergesort(arr,mid+1,right)\n",
    "         #Recursively sorted halves\n",
    "        MergeList(arr,left,mid,mid+1,right)\n",
    " #Main program to input and test the sorting       \n",
    "arr=[]\n",
    "n=int(input(\"enter number of elements:\"))\n",
    "for i in range(n):\n",
    "    arr.append(int(input(\"enter elements:\")))\n",
    "print(\"original Array:\",arr)\n",
    "mergesort(arr, 0, n - 1)\n",
    "print(\"sorted array:\",arr)"
   ]
  }
 ],
 "metadata": {
  "kernelspec": {
   "display_name": "Python 3 (ipykernel)",
   "language": "python",
   "name": "python3"
  },
  "language_info": {
   "codemirror_mode": {
    "name": "ipython",
    "version": 3
   },
   "file_extension": ".py",
   "mimetype": "text/x-python",
   "name": "python",
   "nbconvert_exporter": "python",
   "pygments_lexer": "ipython3",
   "version": "3.11.5"
  }
 },
 "nbformat": 4,
 "nbformat_minor": 5
}
