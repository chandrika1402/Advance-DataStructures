{
 "cells": [
  {
   "cell_type": "code",
   "execution_count": null,
   "id": "2f53875e",
   "metadata": {},
   "outputs": [],
   "source": [
    "def sum(matrix):\n",
    "    row_sums = [sum(m) for row in matrix]\n",
    "    return row_sums\n",
    "m = int(input(\"Enter the number of rows: \"))\n",
    "n = int(input(\"Enter the number of columns: \"))\n",
    "matrix = []\n",
    "print(\"Enter the elements row by row:\")\n",
    "for i in range(rows):\n",
    "    row_input = input(f\"Enter elements for row {i+1} separated by space: \")\n",
    "    row = []  \n",
    "    for elem in row_input.split():\n",
    "        row.append(int(elem))\n",
    "    matrix.append(row)\n",
    "\n",
    "output = sum(matrix)\n",
    "print(\"Sum of elements in each row:\", output)\n",
    "\n"
   ]
  },
  {
   "cell_type": "code",
   "execution_count": null,
   "id": "c6b830c9",
   "metadata": {},
   "outputs": [],
   "source": []
  }
 ],
 "metadata": {
  "kernelspec": {
   "display_name": "Python 3 (ipykernel)",
   "language": "python",
   "name": "python3"
  },
  "language_info": {
   "codemirror_mode": {
    "name": "ipython",
    "version": 3
   },
   "file_extension": ".py",
   "mimetype": "text/x-python",
   "name": "python",
   "nbconvert_exporter": "python",
   "pygments_lexer": "ipython3",
   "version": "3.11.5"
  }
 },
 "nbformat": 4,
 "nbformat_minor": 5
}
