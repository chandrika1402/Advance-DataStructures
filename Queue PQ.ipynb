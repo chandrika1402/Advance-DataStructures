{
 "cells": [
  {
   "cell_type": "code",
   "execution_count": 2,
   "id": "9d193a8c",
   "metadata": {},
   "outputs": [],
   "source": [
    "class QueueWithTwoStacks:\n",
    "    def __init__(self):\n",
    "        self.stack_enqueue = []\n",
    "        self.stack_dequeue = []\n",
    "\n",
    "    def enqueue(self, x):\n",
    "        self.stack_enqueue.append(x)\n",
    "\n",
    "    def dequeue(self):\n",
    "        if self.is_empty():\n",
    "            raise IndexError(\"Queue is empty\")\n",
    "        if not self.stack_dequeue:\n",
    "            while self.stack_enqueue:\n",
    "                self.stack_dequeue.append(self.stack_enqueue.pop())\n",
    "        return self.stack_dequeue.pop()\n",
    "\n",
    "    def peek(self):\n",
    "        if self.is_empty():\n",
    "            raise IndexError(\"Queue is empty\")\n",
    "        if not self.stack_dequeue:\n",
    "            while self.stack_enqueue:\n",
    "                self.stack_dequeue.append(self.stack_enqueue.pop())\n",
    "        return self.stack_dequeue[-1]\n",
    "\n",
    "    def is_empty(self):\n",
    "        return not self.stack_enqueue and not self.stack_dequeue\n"
   ]
  },
  {
   "cell_type": "code",
   "execution_count": 3,
   "id": "bce7bc4b",
   "metadata": {},
   "outputs": [
    {
     "name": "stdout",
     "output_type": "stream",
     "text": [
      "[5, 4, 3, 2, 1]\n"
     ]
    }
   ],
   "source": [
    "from collections import deque\n",
    "\n",
    "def reverse_queue(q):\n",
    "    if not q:\n",
    "        return\n",
    "    item = q.popleft()\n",
    "    reverse_queue(q)\n",
    "    q.append(item)\n",
    "\n",
    "# Example usage:\n",
    "q = deque([1, 2, 3, 4, 5])\n",
    "reverse_queue(q)\n",
    "print(list(q))  # Output: [5, 4, 3, 2, 1]\n"
   ]
  },
  {
   "cell_type": "code",
   "execution_count": 4,
   "id": "6af96319",
   "metadata": {},
   "outputs": [],
   "source": [
    "from collections import deque\n",
    "\n",
    "class MaxQueue:\n",
    "    def __init__(self):\n",
    "        self.queue = deque()\n",
    "        self.max_queue = deque()  # monotonic decreasing\n",
    "\n",
    "    def enqueue(self, x):\n",
    "        self.queue.append(x)\n",
    "        while self.max_queue and self.max_queue[-1] < x:\n",
    "            self.max_queue.pop()\n",
    "        self.max_queue.append(x)\n",
    "\n",
    "    def dequeue(self):\n",
    "        if not self.queue:\n",
    "            raise IndexError(\"Queue is empty\")\n",
    "        removed = self.queue.popleft()\n",
    "        if removed == self.max_queue[0]:\n",
    "            self.max_queue.popleft()\n",
    "        return removed\n",
    "\n",
    "    def max(self):\n",
    "        if not self.max_queue:\n",
    "            raise IndexError(\"Queue is empty\")\n",
    "        return self.max_queue[0]\n"
   ]
  },
  {
   "cell_type": "code",
   "execution_count": 5,
   "id": "db4e682c",
   "metadata": {},
   "outputs": [
    {
     "name": "stdout",
     "output_type": "stream",
     "text": [
      "[1, 2, 3, 4, 5, 6]\n"
     ]
    }
   ],
   "source": [
    "from collections import deque\n",
    "\n",
    "def merge_queues(q1, q2):\n",
    "    merged = deque()\n",
    "    while q1 or q2:\n",
    "        if q1:\n",
    "            merged.append(q1.popleft())\n",
    "        if q2:\n",
    "            merged.append(q2.popleft())\n",
    "    return merged\n",
    "\n",
    "# Example usage:\n",
    "q1 = deque([1, 3, 5])\n",
    "q2 = deque([2, 4, 6])\n",
    "merged = merge_queues(q1, q2)\n",
    "print(list(merged))  # Output: [1, 2, 3, 4, 5, 6]\n"
   ]
  },
  {
   "cell_type": "code",
   "execution_count": 6,
   "id": "a4028748",
   "metadata": {},
   "outputs": [
    {
     "name": "stdout",
     "output_type": "stream",
     "text": [
      "3\n"
     ]
    }
   ],
   "source": [
    "from collections import deque\n",
    "\n",
    "def count_occurrences(q, target):\n",
    "    count = 0\n",
    "    for item in q:\n",
    "        if item == target:\n",
    "            count += 1\n",
    "    return count\n",
    "\n",
    "# Example usage:\n",
    "q = deque([1, 2, 3, 2, 2])\n",
    "print(count_occurrences(q, 2))  # Output: 3\n"
   ]
  },
  {
   "cell_type": "code",
   "execution_count": 7,
   "id": "be2be441",
   "metadata": {},
   "outputs": [
    {
     "name": "stdout",
     "output_type": "stream",
     "text": [
      "World Hello\n"
     ]
    }
   ],
   "source": [
    "from collections import deque\n",
    "\n",
    "def reverse_sentence(sentence):\n",
    "    words = sentence.split()\n",
    "    q = deque(words)\n",
    "    reversed_words = deque()\n",
    "    while q:\n",
    "        reversed_words.appendleft(q.popleft())\n",
    "    return ' '.join(reversed_words)\n",
    "\n",
    "# Example usage:\n",
    "print(reverse_sentence(\"Hello World\"))  # Output: \"World Hello\"\n"
   ]
  },
  {
   "cell_type": "code",
   "execution_count": 8,
   "id": "1d45a49e",
   "metadata": {},
   "outputs": [],
   "source": [
    "from collections import deque\n",
    "\n",
    "class QueueWithContains:\n",
    "    def __init__(self):\n",
    "        self.queue = deque()\n",
    "\n",
    "    def enqueue(self, x):\n",
    "        self.queue.append(x)\n",
    "\n",
    "    def dequeue(self):\n",
    "        if not self.queue:\n",
    "            raise IndexError(\"Queue is empty\")\n",
    "        return self.queue.popleft()\n",
    "\n",
    "    def contains(self, x):\n",
    "        return x in self.queue\n"
   ]
  },
  {
   "cell_type": "code",
   "execution_count": null,
   "id": "6a1c5a1a",
   "metadata": {},
   "outputs": [],
   "source": []
  }
 ],
 "metadata": {
  "kernelspec": {
   "display_name": "Python 3 (ipykernel)",
   "language": "python",
   "name": "python3"
  },
  "language_info": {
   "codemirror_mode": {
    "name": "ipython",
    "version": 3
   },
   "file_extension": ".py",
   "mimetype": "text/x-python",
   "name": "python",
   "nbconvert_exporter": "python",
   "pygments_lexer": "ipython3",
   "version": "3.11.5"
  }
 },
 "nbformat": 4,
 "nbformat_minor": 5
}
