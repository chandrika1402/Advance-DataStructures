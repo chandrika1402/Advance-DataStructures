{
 "cells": [
  {
   "cell_type": "code",
   "execution_count": null,
   "id": "0a865866-7154-4032-a1b8-1147ccdcf3ac",
   "metadata": {},
   "outputs": [],
   "source": [
    "#1"
   ]
  },
  {
   "cell_type": "code",
   "execution_count": 9,
   "id": "92662398-7b78-413c-a392-2367723fa63d",
   "metadata": {},
   "outputs": [
    {
     "name": "stdout",
     "output_type": "stream",
     "text": [
      "Postfix: ab+c* → Infix: ((a + b) * c)\n",
      "Postfix: abc++ → Infix: (a + (b + c))\n",
      "Postfix: ab*c+ → Infix: ((a * b) + c)\n",
      "Postfix: ab+cd+* → Infix: ((a + b) * (c + d))\n"
     ]
    }
   ],
   "source": [
    "def postfix_to_infix(postfix):\n",
    "    \"\"\"Converts a postfix expression to its equivalent infix expression.\"\"\"\n",
    "    stack = []\n",
    "    for char in postfix:\n",
    "        if char.isalnum():  # Operand\n",
    "            stack.append(char)\n",
    "        else:  # Operator\n",
    "            operand2 = stack.pop()\n",
    "            operand1 = stack.pop()\n",
    "            new_expr = f\"({operand1} {char} {operand2})\"  # Form infix expression\n",
    "            stack.append(new_expr)\n",
    "\n",
    "    return stack[0]  # Final expression\n",
    "postfix_expressions = [\n",
    "    \"ab+c*\",  # Equivalent to (a + b) * c\n",
    "    \"abc++\",  # Equivalent to a + (b + c)\n",
    "    \"ab*c+\",  # Equivalent to (a * b) + c\n",
    "    \"ab+cd+*\",  # Equivalent to (a + b) * (c + d)\n",
    "]\n",
    "for postfix in postfix_expressions:\n",
    "    print(f\"Postfix: {postfix} → Infix: {postfix_to_infix(postfix)}\")\n"
   ]
  },
  {
   "cell_type": "code",
   "execution_count": null,
   "id": "0b7ed35c-660f-41d2-ac4b-22d255a8f5bf",
   "metadata": {},
   "outputs": [],
   "source": [
    "#2"
   ]
  },
  {
   "cell_type": "code",
   "execution_count": 3,
   "id": "cfcd54c1-08b4-41c7-b076-c35534a7a861",
   "metadata": {},
   "outputs": [
    {
     "name": "stdout",
     "output_type": "stream",
     "text": [
      "Postfix: ab+ → Prefix: +ab\n",
      "Postfix: abc++ → Prefix: +a+bc\n",
      "Postfix: ab*c+ → Prefix: +*abc\n",
      "Postfix: ab+cd+* → Prefix: *+ab+cd\n"
     ]
    }
   ],
   "source": [
    "def postfix_to_prefix(postfix):\n",
    "    \"\"\"Converts a postfix expression to its equivalent prefix expression.\"\"\"\n",
    "    stack = []\n",
    "\n",
    "    # Traverse each symbol in postfix expression\n",
    "    for char in postfix:\n",
    "        if char.isalnum():  # Operand\n",
    "            stack.append(char)\n",
    "        else:  # Operator\n",
    "            operand2 = stack.pop()\n",
    "            operand1 = stack.pop()\n",
    "            new_expr = f\"{char}{operand1}{operand2}\"  # Form prefix expression\n",
    "            stack.append(new_expr)\n",
    "\n",
    "    return stack[0]  # Final expression\n",
    "\n",
    "# Example Usage\n",
    "postfix_expressions = [\n",
    "    \"ab+\",     # Equivalent to \"+ab\"\n",
    "    \"abc++\",   # Equivalent to \"++abc\"\n",
    "    \"ab*c+\",   # Equivalent to \"+*abc\"\n",
    "    \"ab+cd+*\", # Equivalent to \"*+ab+cd\"\n",
    "]\n",
    "\n",
    "for postfix in postfix_expressions:\n",
    "    print(f\"Postfix: {postfix} → Prefix: {postfix_to_prefix(postfix)}\")\n"
   ]
  },
  {
   "cell_type": "code",
   "execution_count": null,
   "id": "feee8ad3-f628-466b-a8eb-4400d6d1098d",
   "metadata": {},
   "outputs": [],
   "source": [
    "#3"
   ]
  },
  {
   "cell_type": "code",
   "execution_count": 5,
   "id": "067458e0-41a4-4818-9f21-553a001c74ca",
   "metadata": {},
   "outputs": [
    {
     "name": "stdout",
     "output_type": "stream",
     "text": [
      "Prefix: +ab → Postfix: ab+\n",
      "Prefix: ++abc → Postfix: ab+c+\n",
      "Prefix: +*abc → Postfix: ab*c+\n",
      "Prefix: *+ab+cd → Postfix: ab+cd+*\n"
     ]
    }
   ],
   "source": [
    "def prefix_to_postfix(prefix):\n",
    "    \"\"\"Converts a prefix expression to its equivalent postfix expression.\"\"\"\n",
    "    stack = []\n",
    "\n",
    "    # Traverse the prefix expression from right to left\n",
    "    for char in reversed(prefix):\n",
    "        if char.isalnum():  # Operand\n",
    "            stack.append(char)\n",
    "        else:  # Operator\n",
    "            operand1 = stack.pop()\n",
    "            operand2 = stack.pop()\n",
    "            new_expr = f\"{operand1}{operand2}{char}\"  # Form postfix expression\n",
    "            stack.append(new_expr)\n",
    "\n",
    "    return stack[0]  # Final expression\n",
    "\n",
    "# Example Usage\n",
    "prefix_expressions = [\n",
    "    \"+ab\",     # Equivalent to \"ab+\"\n",
    "    \"++abc\",   # Equivalent to \"abc++\"\n",
    "    \"+*abc\",   # Equivalent to \"ab*c+\"\n",
    "    \"*+ab+cd\", # Equivalent to \"ab+cd+*\"\n",
    "]\n",
    "\n",
    "for prefix in prefix_expressions:\n",
    "    print(f\"Prefix: {prefix} → Postfix: {prefix_to_postfix(prefix)}\")\n"
   ]
  },
  {
   "cell_type": "code",
   "execution_count": null,
   "id": "6169f5cf-a643-475e-83e2-19f84398721a",
   "metadata": {},
   "outputs": [],
   "source": [
    "#4"
   ]
  },
  {
   "cell_type": "code",
   "execution_count": 7,
   "id": "0974ef41-faab-44a9-ab3b-b75a8efdfcf3",
   "metadata": {},
   "outputs": [
    {
     "name": "stdout",
     "output_type": "stream",
     "text": [
      "Popped from stack 1: 40\n",
      "Top of stack 0: 20\n",
      "Stack 0: [10, 20, None, None, None]\n",
      "Stack 1: [30, None, None, None, None]\n",
      "Stack 2: [50, None, None, None, None]\n"
     ]
    }
   ],
   "source": [
    "class MultiStack:\n",
    "    def __init__(self, num_stacks, stack_size):\n",
    "        \"\"\"Initialize multiple stacks using a single list.\"\"\"\n",
    "        self.num_stacks = num_stacks\n",
    "        self.stack_size = stack_size\n",
    "        self.stack_list = [None] * (num_stacks * stack_size)  # Single list for all stacks\n",
    "        self.top = [-1] * num_stacks  # Track top indices of each stack\n",
    "\n",
    "    def push(self, stack_num, value):\n",
    "        \"\"\"Push a value onto the specified stack.\"\"\"\n",
    "        if self.top[stack_num] + 1 < self.stack_size:\n",
    "            self.top[stack_num] += 1\n",
    "            index = stack_num * self.stack_size + self.top[stack_num]\n",
    "            self.stack_list[index] = value\n",
    "        else:\n",
    "            raise Exception(f\"Stack {stack_num} is full!\")\n",
    "\n",
    "    def pop(self, stack_num):\n",
    "        \"\"\"Pop the top value from the specified stack.\"\"\"\n",
    "        if self.top[stack_num] == -1:\n",
    "            raise Exception(f\"Stack {stack_num} is empty!\")\n",
    "        index = stack_num * self.stack_size + self.top[stack_num]\n",
    "        value = self.stack_list[index]\n",
    "        self.stack_list[index] = None  # Clear value\n",
    "        self.top[stack_num] -= 1\n",
    "        return value\n",
    "\n",
    "    def peek(self, stack_num):\n",
    "        \"\"\"Return the top value of the specified stack without removing it.\"\"\"\n",
    "        if self.top[stack_num] == -1:\n",
    "            raise Exception(f\"Stack {stack_num} is empty!\")\n",
    "        index = stack_num * self.stack_size + self.top[stack_num]\n",
    "        return self.stack_list[index]\n",
    "\n",
    "    def is_empty(self, stack_num):\n",
    "        \"\"\"Check if a stack is empty.\"\"\"\n",
    "        return self.top[stack_num] == -1\n",
    "\n",
    "    def print_stacks(self):\n",
    "        \"\"\"Print the current state of the stacks.\"\"\"\n",
    "        for i in range(self.num_stacks):\n",
    "            start = i * self.stack_size\n",
    "            end = start + self.stack_size\n",
    "            print(f\"Stack {i}: {self.stack_list[start:end]}\")\n",
    "\n",
    "# Example Usage\n",
    "stacks = MultiStack(num_stacks=3, stack_size=5)\n",
    "\n",
    "# Push elements\n",
    "stacks.push(0, 10)\n",
    "stacks.push(0, 20)\n",
    "stacks.push(1, 30)\n",
    "stacks.push(1, 40)\n",
    "stacks.push(2, 50)\n",
    "\n",
    "# Pop and Peek operations\n",
    "print(\"Popped from stack 1:\", stacks.pop(1))  # Expected: 40\n",
    "print(\"Top of stack 0:\", stacks.peek(0))  # Expected: 20\n",
    "\n",
    "# Print stack contents\n",
    "stacks.print_stacks()\n"
   ]
  }
 ],
 "metadata": {
  "kernelspec": {
   "display_name": "Python [conda env:base] *",
   "language": "python",
   "name": "conda-base-py"
  },
  "language_info": {
   "codemirror_mode": {
    "name": "ipython",
    "version": 3
   },
   "file_extension": ".py",
   "mimetype": "text/x-python",
   "name": "python",
   "nbconvert_exporter": "python",
   "pygments_lexer": "ipython3",
   "version": "3.12.7"
  }
 },
 "nbformat": 4,
 "nbformat_minor": 5
}
