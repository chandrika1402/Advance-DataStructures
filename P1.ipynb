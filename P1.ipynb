{
 "cells": [
  {
   "cell_type": "code",
   "execution_count": null,
   "id": "c6dfd5ab-2c16-41aa-aa73-90102bdc1d22",
   "metadata": {},
   "outputs": [],
   "source": [
    "#1"
   ]
  },
  {
   "cell_type": "code",
   "execution_count": 1,
   "id": "1c751e91-efce-4c26-aa48-cdb85b6d286d",
   "metadata": {},
   "outputs": [
    {
     "name": "stdout",
     "output_type": "stream",
     "text": [
      "Original String: hello\n",
      "Reversed String: olleh\n"
     ]
    }
   ],
   "source": [
    "class Stack:\n",
    "    def __init__(self):\n",
    "        self.items = []\n",
    "    \n",
    "    def push(self, item):\n",
    "        self.items.append(item)\n",
    "    \n",
    "    def pop(self):\n",
    "        if not self.is_empty():\n",
    "            return self.items.pop()\n",
    "        return None\n",
    "    \n",
    "    def is_empty(self):\n",
    "        return len(self.items) == 0\n",
    "    \n",
    "    def peek(self):\n",
    "        if not self.is_empty():\n",
    "            return self.items[-1]\n",
    "        return None\n",
    "\n",
    "def reverse_string(s):\n",
    "    stack = Stack()\n",
    "    for char in s:\n",
    "        stack.push(char)\n",
    "    \n",
    "    reversed_str = \"\"\n",
    "    while not stack.is_empty():\n",
    "        reversed_str += stack.pop()\n",
    "    \n",
    "    return reversed_str\n",
    "\n",
    "# Example usage\n",
    "input_string = \"hello\"\n",
    "print(\"Original String:\", input_string)\n",
    "print(\"Reversed String:\", reverse_string(input_string))\n"
   ]
  },
  {
   "cell_type": "code",
   "execution_count": null,
   "id": "5e4be3c9-85cb-494d-b244-8b7d9a4451ee",
   "metadata": {},
   "outputs": [],
   "source": [
    "#2"
   ]
  },
  {
   "cell_type": "code",
   "execution_count": 3,
   "id": "c483d52d-a0b5-4845-b6e9-dc3387d6899e",
   "metadata": {},
   "outputs": [
    {
     "name": "stdout",
     "output_type": "stream",
     "text": [
      "Original Stack: [34, 3, 31, 98, 92, 23]\n",
      "Sorted Stack: [98, 92, 34, 31, 23, 3]\n"
     ]
    }
   ],
   "source": [
    "class StackSort:\n",
    "    def __init__(self):\n",
    "        self.input_stack = []  # Stack to hold original elements\n",
    "        self.sorted_stack = []  # Stack to hold sorted elements\n",
    "\n",
    "    def push(self, value):\n",
    "        self.input_stack.append(value)\n",
    "\n",
    "    def pop(self):\n",
    "        if self.input_stack:\n",
    "            return self.input_stack.pop()\n",
    "        return None\n",
    "\n",
    "    def sort_stack(self):\n",
    "        while self.input_stack:\n",
    "            temp = self.input_stack.pop()  # Take the top element\n",
    "            \n",
    "            # Move elements from sorted_stack to input_stack to find correct position for temp\n",
    "            while self.sorted_stack and self.sorted_stack[-1] > temp:\n",
    "                self.input_stack.append(self.sorted_stack.pop())\n",
    "\n",
    "            self.sorted_stack.append(temp)  # Place temp in correct position\n",
    "\n",
    "        # Move sorted elements back to input_stack (if needed to maintain stack order)\n",
    "        while self.sorted_stack:\n",
    "            self.input_stack.append(self.sorted_stack.pop())\n",
    "\n",
    "    def display(self):\n",
    "        print(\"Sorted Stack:\", self.input_stack)\n",
    "\n",
    "# Example Usage\n",
    "stack = StackSort()\n",
    "stack.push(34)\n",
    "stack.push(3)\n",
    "stack.push(31)\n",
    "stack.push(98)\n",
    "stack.push(92)\n",
    "stack.push(23)\n",
    "\n",
    "print(\"Original Stack:\", stack.input_stack)\n",
    "stack.sort_stack()\n",
    "stack.display()\n"
   ]
  },
  {
   "cell_type": "code",
   "execution_count": null,
   "id": "e4dcb8e4-625d-47db-8d24-52e348903ca0",
   "metadata": {},
   "outputs": [],
   "source": [
    "#3"
   ]
  },
  {
   "cell_type": "code",
   "execution_count": 5,
   "id": "eb977fe1-b607-499f-af3e-b8143be63bbe",
   "metadata": {},
   "outputs": [
    {
     "name": "stdout",
     "output_type": "stream",
     "text": [
      "1\n",
      "2\n",
      "Queue: [3, 4]\n"
     ]
    }
   ],
   "source": [
    "class QueueUsingStacks:\n",
    "    def __init__(self):\n",
    "        self.s1 = []  # Stack for enqueue\n",
    "        self.s2 = []  # Stack for dequeue\n",
    "\n",
    "    def enqueue(self, x):\n",
    "        \"\"\"Add an element to the queue.\"\"\"\n",
    "        self.s1.append(x)\n",
    "\n",
    "    def dequeue(self):\n",
    "        \"\"\"Remove and return the front element of the queue.\"\"\"\n",
    "        if not self.s2:\n",
    "            if not self.s1:\n",
    "                return \"Queue is empty\"  # Edge case: No elements to dequeue\n",
    "            \n",
    "            # Move elements from s1 to s2 to maintain queue order\n",
    "            while self.s1:\n",
    "                self.s2.append(self.s1.pop())\n",
    "\n",
    "        return self.s2.pop()\n",
    "\n",
    "    def is_empty(self):\n",
    "        \"\"\"Check if the queue is empty.\"\"\"\n",
    "        return not self.s1 and not self.s2\n",
    "\n",
    "    def front(self):\n",
    "        \"\"\"Return the front element without removing it.\"\"\"\n",
    "        if not self.s2:\n",
    "            if not self.s1:\n",
    "                return \"Queue is empty\"\n",
    "            while self.s1:\n",
    "                self.s2.append(self.s1.pop())\n",
    "\n",
    "        return self.s2[-1]\n",
    "\n",
    "    def display(self):\n",
    "        \"\"\"Display the queue (front to rear).\"\"\"\n",
    "        if self.s2:\n",
    "            print(\"Queue:\", list(reversed(self.s2)) + self.s1)\n",
    "        else:\n",
    "            print(\"Queue:\", self.s1)\n",
    "\n",
    "# Example Usage\n",
    "q = QueueUsingStacks()\n",
    "q.enqueue(1)\n",
    "q.enqueue(2)\n",
    "q.enqueue(3)\n",
    "\n",
    "print(q.dequeue())  # Output: 1\n",
    "q.enqueue(4)\n",
    "print(q.dequeue())  # Output: 2\n",
    "q.display()  # Remaining Queue: [3, 4]\n"
   ]
  },
  {
   "cell_type": "code",
   "execution_count": 7,
   "id": "c1fd2972-14ad-462f-90b9-4d61898b0380",
   "metadata": {},
   "outputs": [],
   "source": [
    "#4"
   ]
  },
  {
   "cell_type": "code",
   "execution_count": 9,
   "id": "30125f13-cafc-476c-96ff-cf4abd291ea6",
   "metadata": {},
   "outputs": [
    {
     "name": "stdout",
     "output_type": "stream",
     "text": [
      "Performed: Type 'Hello'\n",
      "Performed: Bold 'Hello'\n",
      "Performed: Italicize 'Hello'\n",
      "Undone: Italicize 'Hello'\n",
      "Undone: Bold 'Hello'\n",
      "Redone: Bold 'Hello'\n",
      "Performed: Underline 'Hello'\n",
      "Undo Stack: [\"Type 'Hello'\", \"Bold 'Hello'\", \"Underline 'Hello'\"]\n",
      "Redo Stack: []\n"
     ]
    }
   ],
   "source": [
    "class UndoRedoStack:\n",
    "    def __init__(self):\n",
    "        self.undo_stack = []  # Stores performed actions\n",
    "        self.redo_stack = []  # Stores undone actions\n",
    "\n",
    "    def perform_action(self, action):\n",
    "        \"\"\"Perform a new action and add it to the undo stack.\"\"\"\n",
    "        self.undo_stack.append(action)\n",
    "        self.redo_stack.clear()  # Clear redo stack as new actions invalidate redo history\n",
    "        print(f\"Performed: {action}\")\n",
    "\n",
    "    def undo(self):\n",
    "        \"\"\"Undo the last action.\"\"\"\n",
    "        if not self.undo_stack:\n",
    "            print(\"Nothing to undo.\")\n",
    "            return None\n",
    "        \n",
    "        last_action = self.undo_stack.pop()\n",
    "        self.redo_stack.append(last_action)\n",
    "        print(f\"Undone: {last_action}\")\n",
    "        return last_action\n",
    "\n",
    "    def redo(self):\n",
    "        \"\"\"Redo the last undone action.\"\"\"\n",
    "        if not self.redo_stack:\n",
    "            print(\"Nothing to redo.\")\n",
    "            return None\n",
    "        \n",
    "        last_undone_action = self.redo_stack.pop()\n",
    "        self.undo_stack.append(last_undone_action)\n",
    "        print(f\"Redone: {last_undone_action}\")\n",
    "        return last_undone_action\n",
    "\n",
    "    def display(self):\n",
    "        \"\"\"Display current state of undo and redo stacks.\"\"\"\n",
    "        print(f\"Undo Stack: {self.undo_stack}\")\n",
    "        print(f\"Redo Stack: {self.redo_stack}\")\n",
    "\n",
    "# Example Usage\n",
    "history = UndoRedoStack()\n",
    "history.perform_action(\"Type 'Hello'\")\n",
    "history.perform_action(\"Bold 'Hello'\")\n",
    "history.perform_action(\"Italicize 'Hello'\")\n",
    "\n",
    "history.undo()  # Undo Italicize\n",
    "history.undo()  # Undo Bold\n",
    "\n",
    "history.redo()  # Redo Bold\n",
    "history.perform_action(\"Underline 'Hello'\")  # Clears redo stack\n",
    "\n",
    "history.display()\n"
   ]
  },
  {
   "cell_type": "code",
   "execution_count": null,
   "id": "a5af9e83-35b1-4269-bcd5-b0c65397807e",
   "metadata": {},
   "outputs": [],
   "source": [
    "#5"
   ]
  },
  {
   "cell_type": "code",
   "execution_count": 11,
   "id": "84be1492-d9be-455d-9731-d9bef13dc253",
   "metadata": {},
   "outputs": [
    {
     "name": "stdout",
     "output_type": "stream",
     "text": [
      "Pushed: 10, Middle: 10\n",
      "Pushed: 20, Middle: 10\n",
      "Pushed: 30, Middle: 20\n",
      "Pushed: 40, Middle: 20\n",
      "Pushed: 50, Middle: 30\n",
      "Middle Element: 30\n",
      "Popped: 50, Middle: 20\n",
      "Middle Element: 20\n",
      "Popped: 40, Middle: 20\n",
      "Middle Element: 20\n"
     ]
    }
   ],
   "source": [
    "class Node:\n",
    "    \"\"\"A doubly linked list node used in the stack.\"\"\"\n",
    "    def __init__(self, value):\n",
    "        self.value = value\n",
    "        self.prev = None\n",
    "        self.next = None\n",
    "\n",
    "class StackWithMiddle:\n",
    "    \"\"\"Stack that supports push, pop, and get_middle in O(1) time.\"\"\"\n",
    "    def __init__(self):\n",
    "        self.head = None  # Top of stack\n",
    "        self.middle = None  # Middle element pointer\n",
    "        self.size = 0  # Stack size\n",
    "\n",
    "    def push(self, x):\n",
    "        \"\"\"Push an element onto the stack.\"\"\"\n",
    "        new_node = Node(x)\n",
    "        new_node.next = self.head\n",
    "        \n",
    "        if self.head:\n",
    "            self.head.prev = new_node\n",
    "        \n",
    "        self.head = new_node\n",
    "        self.size += 1\n",
    "        \n",
    "        # Adjust middle pointer\n",
    "        if self.size == 1:\n",
    "            self.middle = self.head\n",
    "        elif self.size % 2 != 0:  # Move middle back on odd sizes\n",
    "            self.middle = self.middle.prev\n",
    "        \n",
    "        print(f\"Pushed: {x}, Middle: {self.get_middle()}\")\n",
    "\n",
    "    def pop(self):\n",
    "        \"\"\"Remove and return the top element of the stack.\"\"\"\n",
    "        if not self.head:\n",
    "            print(\"Stack is empty.\")\n",
    "            return None\n",
    "        \n",
    "        popped_value = self.head.value\n",
    "        self.head = self.head.next\n",
    "        if self.head:\n",
    "            self.head.prev = None\n",
    "\n",
    "        self.size -= 1\n",
    "        \n",
    "        # Adjust middle pointer\n",
    "        if self.size == 0:\n",
    "            self.middle = None\n",
    "        elif self.size % 2 == 0:  # Move middle forward on even sizes\n",
    "            self.middle = self.middle.next\n",
    "        \n",
    "        print(f\"Popped: {popped_value}, Middle: {self.get_middle() if self.middle else 'None'}\")\n",
    "        return popped_value\n",
    "\n",
    "    def get_middle(self):\n",
    "        \"\"\"Return the middle element of the stack.\"\"\"\n",
    "        return self.middle.value if self.middle else \"Stack is empty\"\n",
    "\n",
    "# Example Usage\n",
    "stack = StackWithMiddle()\n",
    "stack.push(10)\n",
    "stack.push(20)\n",
    "stack.push(30)\n",
    "stack.push(40)\n",
    "stack.push(50)\n",
    "print(\"Middle Element:\", stack.get_middle())  # Output: 30\n",
    "\n",
    "stack.pop()\n",
    "print(\"Middle Element:\", stack.get_middle())  # Output: 20\n",
    "\n",
    "stack.pop()\n",
    "print(\"Middle Element:\", stack.get_middle())  # Output: 20\n"
   ]
  },
  {
   "cell_type": "code",
   "execution_count": null,
   "id": "3d8a1a13-7c5a-4b5d-9e72-c63a5f7d04a1",
   "metadata": {},
   "outputs": [],
   "source": [
    "#6"
   ]
  },
  {
   "cell_type": "code",
   "execution_count": 13,
   "id": "29da58f8-ead9-454b-94dc-e1991e070fb2",
   "metadata": {},
   "outputs": [
    {
     "name": "stdout",
     "output_type": "stream",
     "text": [
      "Original Stack: [10, 20, 30, 10, 40, 20, 50, 30]\n",
      "Stack after removing duplicates: [10, 40, 20, 50, 30]\n"
     ]
    }
   ],
   "source": [
    "def remove_duplicates(stack):\n",
    "    \"\"\"Removes duplicate elements from the stack while preserving order.\"\"\"\n",
    "    seen = set()  # Track unique elements\n",
    "    temp_stack = []  # Stack to rebuild without duplicates\n",
    "    \n",
    "    # Process elements\n",
    "    while stack:\n",
    "        element = stack.pop()\n",
    "        if element not in seen:\n",
    "            seen.add(element)\n",
    "            temp_stack.append(element)\n",
    "\n",
    "    # Restore order by reversing back into the original stack\n",
    "    while temp_stack:\n",
    "        stack.append(temp_stack.pop())\n",
    "\n",
    "# Example Usage\n",
    "stack = [10, 20, 30, 10, 40, 20, 50, 30]\n",
    "print(\"Original Stack:\", stack)\n",
    "\n",
    "remove_duplicates(stack)\n",
    "print(\"Stack after removing duplicates:\", stack)\n"
   ]
  },
  {
   "cell_type": "code",
   "execution_count": null,
   "id": "cc09eff2-9cc5-4077-8c97-1f99d8e4e84c",
   "metadata": {},
   "outputs": [],
   "source": [
    "#7"
   ]
  },
  {
   "cell_type": "code",
   "execution_count": 15,
   "id": "f03d545c-d2f2-47f8-bb31-6135ad7615b2",
   "metadata": {},
   "outputs": [
    {
     "name": "stdout",
     "output_type": "stream",
     "text": [
      "Pushed: 10\n",
      "Pushed: 20\n",
      "Pushed: 30\n",
      "Top Element: 30\n",
      "Popped: 30\n",
      "Popped: 20\n",
      "Stack: [10]\n"
     ]
    }
   ],
   "source": [
    "from collections import deque\n",
    "\n",
    "class StackUsingQueues:\n",
    "    def __init__(self):\n",
    "        self.q1 = deque()  # Main queue\n",
    "        self.q2 = deque()  # Temporary queue\n",
    "\n",
    "    def push(self, x):\n",
    "        \"\"\"Push element onto stack.\"\"\"\n",
    "        self.q2.append(x)  # Add new element to q2\n",
    "\n",
    "        # Move all elements from q1 to q2 to maintain LIFO order\n",
    "        while self.q1:\n",
    "            self.q2.append(self.q1.popleft())\n",
    "\n",
    "        # Swap q1 and q2 so q1 always holds stack elements\n",
    "        self.q1, self.q2 = self.q2, self.q1\n",
    "        print(f\"Pushed: {x}\")\n",
    "\n",
    "    def pop(self):\n",
    "        \"\"\"Remove and return the top element.\"\"\"\n",
    "        if self.is_empty():\n",
    "            print(\"Stack is empty.\")\n",
    "            return None\n",
    "        return self.q1.popleft()\n",
    "\n",
    "    def peek(self):\n",
    "        \"\"\"Return the top element without removing it.\"\"\"\n",
    "        if self.is_empty():\n",
    "            print(\"Stack is empty.\")\n",
    "            return None\n",
    "        return self.q1[0]\n",
    "\n",
    "    def is_empty(self):\n",
    "        \"\"\"Check if the stack is empty.\"\"\"\n",
    "        return len(self.q1) == 0\n",
    "\n",
    "    def display(self):\n",
    "        \"\"\"Print stack elements from top to bottom.\"\"\"\n",
    "        print(\"Stack:\", list(self.q1))\n",
    "\n",
    "# Example Usage\n",
    "stack = StackUsingQueues()\n",
    "stack.push(10)\n",
    "stack.push(20)\n",
    "stack.push(30)\n",
    "\n",
    "print(\"Top Element:\", stack.peek())  # Output: 30\n",
    "print(\"Popped:\", stack.pop())        # Output: 30\n",
    "print(\"Popped:\", stack.pop())        # Output: 20\n",
    "\n",
    "stack.display()  # Output: Stack: [10]\n"
   ]
  },
  {
   "cell_type": "code",
   "execution_count": null,
   "id": "756de5b9-3649-49e9-922f-c05cfd0f470d",
   "metadata": {},
   "outputs": [],
   "source": [
    "#8"
   ]
  },
  {
   "cell_type": "code",
   "execution_count": 17,
   "id": "8fe80b41-99f7-4e6c-91fb-a94db856954f",
   "metadata": {},
   "outputs": [
    {
     "name": "stdout",
     "output_type": "stream",
     "text": [
      "Stack: [1, 2, 3, 2, 1]\n",
      "Is Palindrome? True\n",
      "Stack: [1, 2, 3, 2, 1, 4]\n",
      "Is Palindrome? False\n"
     ]
    }
   ],
   "source": [
    "class Stack:\n",
    "    def __init__(self):\n",
    "        self.stack = []\n",
    "\n",
    "    def push(self, x):\n",
    "        \"\"\"Push element onto stack.\"\"\"\n",
    "        self.stack.append(x)\n",
    "\n",
    "    def pop(self):\n",
    "        \"\"\"Pop and return the top element.\"\"\"\n",
    "        if not self.is_empty():\n",
    "            return self.stack.pop()\n",
    "        return None\n",
    "\n",
    "    def is_empty(self):\n",
    "        \"\"\"Check if stack is empty.\"\"\"\n",
    "        return len(self.stack) == 0\n",
    "\n",
    "    def is_palindrome(self):\n",
    "        \"\"\"Check if the stack forms a palindrome.\"\"\"\n",
    "        return self.stack == self.stack[::-1]  # Compare with reversed list\n",
    "\n",
    "    def display(self):\n",
    "        \"\"\"Print stack elements from top to bottom.\"\"\"\n",
    "        print(\"Stack:\", self.stack)\n",
    "\n",
    "# Example Usage\n",
    "stack = Stack()\n",
    "stack.push(1)\n",
    "stack.push(2)\n",
    "stack.push(3)\n",
    "stack.push(2)\n",
    "stack.push(1)\n",
    "\n",
    "stack.display()\n",
    "print(\"Is Palindrome?\", stack.is_palindrome())  # Output: True\n",
    "\n",
    "# Testing a non-palindrome stack\n",
    "stack.push(4)\n",
    "stack.display()\n",
    "print(\"Is Palindrome?\", stack.is_palindrome())  # Output: False\n"
   ]
  },
  {
   "cell_type": "code",
   "execution_count": null,
   "id": "11897a8f-f4bc-4b89-be85-ee2da64cfda1",
   "metadata": {},
   "outputs": [],
   "source": [
    "#9"
   ]
  },
  {
   "cell_type": "code",
   "execution_count": 19,
   "id": "5320fb16-ce0e-4960-926b-304568cd2259",
   "metadata": {},
   "outputs": [
    {
     "name": "stdout",
     "output_type": "stream",
     "text": [
      "Input: [4, 5, 2, 10, 8]\n",
      "Next Greater Elements: [5, 10, 10, -1, -1]\n"
     ]
    }
   ],
   "source": [
    "def next_greater_element(arr):\n",
    "    \"\"\"Find the next greater element for each element in the list using a stack.\"\"\"\n",
    "    n = len(arr)\n",
    "    result = [-1] * n  # Default all elements to -1\n",
    "    stack = []  # Monotonic decreasing stack\n",
    "\n",
    "    # Traverse from right to left\n",
    "    for i in range(n - 1, -1, -1):\n",
    "        # Maintain decreasing order: Pop smaller elements\n",
    "        while stack and stack[-1] <= arr[i]:\n",
    "            stack.pop()\n",
    "\n",
    "        # If stack is not empty, top is next greater element\n",
    "        if stack:\n",
    "            result[i] = stack[-1]\n",
    "\n",
    "        # Push current element onto stack\n",
    "        stack.append(arr[i])\n",
    "\n",
    "    return result\n",
    "\n",
    "# Example Usage\n",
    "arr = [4, 5, 2, 10, 8]\n",
    "print(\"Input:\", arr)\n",
    "print(\"Next Greater Elements:\", next_greater_element(arr))\n"
   ]
  },
  {
   "cell_type": "code",
   "execution_count": null,
   "id": "b09ccca3-9368-4dc1-95fe-c3d85e60659f",
   "metadata": {},
   "outputs": [],
   "source": [
    "#10"
   ]
  },
  {
   "cell_type": "code",
   "execution_count": 21,
   "id": "0b4333a5-a26c-41d0-8e91-adf9ed736d02",
   "metadata": {},
   "outputs": [
    {
     "name": "stdout",
     "output_type": "stream",
     "text": [
      "Original Queue: [1, 2, 3, 4, 5]\n",
      "Reversed Queue: [5, 4, 3, 2, 1]\n"
     ]
    }
   ],
   "source": [
    "from collections import deque\n",
    "\n",
    "def reverse_queue(queue):\n",
    "    \"\"\"Reverse a queue using a stack.\"\"\"\n",
    "    stack = []  # Using a stack to reverse\n",
    "\n",
    "    # Step 1: Dequeue elements and push to stack\n",
    "    while queue:\n",
    "        stack.append(queue.popleft())\n",
    "\n",
    "    # Step 2: Pop from stack and enqueue back to queue\n",
    "    while stack:\n",
    "        queue.append(stack.pop())\n",
    "\n",
    "# Example Usage\n",
    "queue = deque([1, 2, 3, 4, 5])\n",
    "print(\"Original Queue:\", list(queue))\n",
    "\n",
    "reverse_queue(queue)\n",
    "print(\"Reversed Queue:\", list(queue))\n"
   ]
  },
  {
   "cell_type": "code",
   "execution_count": null,
   "id": "ffed9ba4-2d25-4f54-8f32-06c7c54a9b8d",
   "metadata": {},
   "outputs": [],
   "source": [
    "#11"
   ]
  },
  {
   "cell_type": "code",
   "execution_count": 23,
   "id": "301b5727-47b1-4b9d-823b-13a5ed7a38f5",
   "metadata": {},
   "outputs": [
    {
     "name": "stdout",
     "output_type": "stream",
     "text": [
      "Original Stack: [10, 5, 30, 2, 50, 20, 15]\n",
      "Modified Stack (≥ 15): [30, 50, 20, 15]\n"
     ]
    }
   ],
   "source": [
    "def remove_elements_less_than_x(stack, x):\n",
    "    \"\"\"Removes all elements less than X from the stack while preserving order.\"\"\"\n",
    "    temp_stack = []  # Temporary stack to store valid elements\n",
    "\n",
    "    # Step 1: Filter elements\n",
    "    while stack:\n",
    "        element = stack.pop()\n",
    "        if element >= x:\n",
    "            temp_stack.append(element)\n",
    "\n",
    "    # Step 2: Restore order by pushing elements back\n",
    "    while temp_stack:\n",
    "        stack.append(temp_stack.pop())\n",
    "\n",
    "# Example Usage\n",
    "stack = [10, 5, 30, 2, 50, 20, 15]\n",
    "x = 15\n",
    "print(\"Original Stack:\", stack)\n",
    "\n",
    "remove_elements_less_than_x(stack, x)\n",
    "print(\"Modified Stack (≥ 15):\", stack)\n"
   ]
  }
 ],
 "metadata": {
  "kernelspec": {
   "display_name": "Python [conda env:base] *",
   "language": "python",
   "name": "conda-base-py"
  },
  "language_info": {
   "codemirror_mode": {
    "name": "ipython",
    "version": 3
   },
   "file_extension": ".py",
   "mimetype": "text/x-python",
   "name": "python",
   "nbconvert_exporter": "python",
   "pygments_lexer": "ipython3",
   "version": "3.12.7"
  }
 },
 "nbformat": 4,
 "nbformat_minor": 5
}
